{
 "cells": [
  {
   "cell_type": "code",
   "execution_count": 38,
   "metadata": {},
   "outputs": [],
   "source": [
    "import numpy as np\n",
    "from bokeh.plotting import figure,show,output_notebook\n",
    "from bokeh.layouts import gridplot\n",
    "from bokeh.io import push_notebook"
   ]
  },
  {
   "cell_type": "code",
   "execution_count": 39,
   "metadata": {},
   "outputs": [
    {
     "data": {
      "text/plain": [
       "<function bokeh.io.output.output_notebook(resources=None, verbose=False, hide_banner=False, load_timeout=5000, notebook_type='jupyter')>"
      ]
     },
     "execution_count": 39,
     "metadata": {},
     "output_type": "execute_result"
    }
   ],
   "source": [
    "output_notebook"
   ]
  },
  {
   "cell_type": "code",
   "execution_count": 40,
   "metadata": {},
   "outputs": [],
   "source": [
    "import numpy as np"
   ]
  },
  {
   "cell_type": "code",
   "execution_count": 41,
   "metadata": {},
   "outputs": [],
   "source": [
    "def local_regression(x0,X,Y,tau):\n",
    "    x0=np.r_[1,x0]\n",
    "    X=np.c_[np.ones(len(X)),X]\n",
    "    xw=X.T*radial_kernel(x0,X,tau)\n",
    "    beta=np.linalg.pinv(xw@X)@xw@Y\n",
    "    return x0@beta\n"
   ]
  },
  {
   "cell_type": "code",
   "execution_count": 42,
   "metadata": {},
   "outputs": [],
   "source": [
    "def radial_kernel(x0,X,tau):\n",
    "    return np.exp(np.sum((X-x0)**2,axis=1)/(-2*tau*tau))"
   ]
  },
  {
   "cell_type": "code",
   "execution_count": 43,
   "metadata": {},
   "outputs": [],
   "source": [
    "n=1000"
   ]
  },
  {
   "cell_type": "code",
   "execution_count": 44,
   "metadata": {},
   "outputs": [
    {
     "name": "stdout",
     "output_type": "stream",
     "text": [
      "the data set (10 samples)X:\n",
      " [-2.99399399 -2.98798799 -2.98198198 -2.97597598 -2.96996997 -2.96396396\n",
      " -2.95795796 -2.95195195 -2.94594595]\n",
      "the fitting curve data set (10 samples)Y:\n",
      " [-2.99399399 -2.98798799 -2.98198198 -2.97597598 -2.96996997 -2.96396396\n",
      " -2.95795796 -2.95195195 -2.94594595]\n",
      "normalized(10 samples)X:\n",
      " [-2.95982241 -2.90275316 -3.14282802 -3.01016578 -2.95428958 -3.01048324\n",
      " -3.01743398 -2.96005616 -3.09801523]\n"
     ]
    }
   ],
   "source": [
    "X=np.linspace(-3,3,num=n)\n",
    "print(\"the data set (10 samples)X:\\n\",X[1:10])\n",
    "Y=np.log(np.abs(X**2-1)+.5)\n",
    "print(\"the fitting curve data set (10 samples)Y:\\n\",X[1:10])\n",
    "X+=np.random.normal(scale=.1,size=n)\n",
    "print(\"normalized(10 samples)X:\\n\",X[1:10])\n"
   ]
  },
  {
   "cell_type": "code",
   "execution_count": 45,
   "metadata": {},
   "outputs": [
    {
     "name": "stdout",
     "output_type": "stream",
     "text": [
      "Xo domain space(10 samples)X:\n",
      " [-2.97993311 -2.95986622 -2.93979933 -2.91973244 -2.89966555 -2.87959866\n",
      " -2.85953177 -2.83946488 -2.81939799]\n"
     ]
    }
   ],
   "source": [
    "domain=np.linspace(-3,3,num=300)\n",
    "print(\"Xo domain space(10 samples)X:\\n\",domain[1:10])"
   ]
  },
  {
   "cell_type": "code",
   "execution_count": 46,
   "metadata": {},
   "outputs": [],
   "source": [
    "def plot_lwr(tau):\n",
    "    prediction=[local_regression(x0,X,Y,tau)for x0 in domain]\n",
    "    plot=figure(plot_width=400,plot_height=400)\n",
    "    plot.title.text='tau=%g'%tau\n",
    "    plot.scatter(X,Y,alpha=.3)\n",
    "    plot.line(domain,prediction,line_width=2,color='red')\n",
    "    return plot\n"
   ]
  },
  {
   "cell_type": "code",
   "execution_count": 48,
   "metadata": {},
   "outputs": [],
   "source": [
    "show(gridplot([\n",
    "    [plot_lwr(10.),plot_lwr(1.)],\n",
    "    [plot_lwr(0.1),plot_lwr(0.01)]\n",
    "]))"
   ]
  },
  {
   "cell_type": "code",
   "execution_count": null,
   "metadata": {},
   "outputs": [],
   "source": []
  },
  {
   "cell_type": "code",
   "execution_count": null,
   "metadata": {},
   "outputs": [],
   "source": []
  },
  {
   "cell_type": "code",
   "execution_count": null,
   "metadata": {},
   "outputs": [],
   "source": []
  },
  {
   "cell_type": "code",
   "execution_count": null,
   "metadata": {},
   "outputs": [],
   "source": []
  }
 ],
 "metadata": {
  "kernelspec": {
   "display_name": "Python 3",
   "language": "python",
   "name": "python3"
  },
  "language_info": {
   "codemirror_mode": {
    "name": "ipython",
    "version": 3
   },
   "file_extension": ".py",
   "mimetype": "text/x-python",
   "name": "python",
   "nbconvert_exporter": "python",
   "pygments_lexer": "ipython3",
   "version": "3.6.5"
  }
 },
 "nbformat": 4,
 "nbformat_minor": 2
}
